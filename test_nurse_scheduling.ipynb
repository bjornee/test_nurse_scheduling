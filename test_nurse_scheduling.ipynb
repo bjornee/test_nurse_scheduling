{
  "nbformat": 4,
  "nbformat_minor": 0,
  "metadata": {
    "colab": {
      "name": "test_nurse_scheduling",
      "version": "0.3.2",
      "provenance": [],
      "include_colab_link": true
    },
    "kernelspec": {
      "name": "python3",
      "display_name": "Python 3"
    },
    "accelerator": "GPU"
  },
  "cells": [
    {
      "cell_type": "markdown",
      "metadata": {
        "id": "view-in-github",
        "colab_type": "text"
      },
      "source": [
        "<a href=\"https://colab.research.google.com/github/zaq9/test_nurse_scheduling/blob/master/test_nurse_scheduling.ipynb\" target=\"_parent\"><img src=\"https://colab.research.google.com/assets/colab-badge.svg\" alt=\"Open In Colab\"/></a>"
      ]
    },
    {
      "metadata": {
        "id": "kcgnIef7nYLu",
        "colab_type": "code",
        "colab": {}
      },
      "cell_type": "code",
      "source": [
        "!pip install pulp\n",
        "!pip install ortoolpy"
      ],
      "execution_count": 0,
      "outputs": []
    },
    {
      "metadata": {
        "id": "h6TUQipd9YVp",
        "colab_type": "code",
        "colab": {}
      },
      "cell_type": "code",
      "source": [
        "import numpy as np, pandas as pd\n",
        "from pulp import *\n",
        "from ortoolpy import addvars, addbinvars\n",
        "\n",
        "a = pd.read_csv('https://raw.githubusercontent.com/zaq9/test_nurse_scheduling/master/sc_sample_data.csv').T\n",
        "\n",
        "a,a.columns = a.iloc[1:],a.iloc[0].tolist()\n",
        "a.必要人数 = a.必要人数.astype(int)\n",
        "a.iloc[:,2:] = ~a.iloc[:,2:].isnull()\n",
        "a.insert(0, '曜日', a.index.str[0])\n",
        "a.reset_index(drop=True, inplace=True)\n",
        "a = a.iloc[:,list(range(3,a.shape[1]))+[0,1,2]]\n",
        "print(a[:3]) # 最初の3行表示"
      ],
      "execution_count": 0,
      "outputs": []
    },
    {
      "metadata": {
        "id": "QFkwZGRsoXCS",
        "colab_type": "code",
        "outputId": "82c1bcad-b4ae-432f-87b0-6ada46a37ce3",
        "colab": {
          "base_uri": "https://localhost:8080/",
          "height": 457
        }
      },
      "cell_type": "code",
      "source": [
        "Nコマ,N従業員 = a.shape[0],a.shape[1]-3\n",
        "L従業員 = list(range(N従業員))\n",
        "L管理者 = [3,5,9] # 管理者は従業員3, 5, 9\n",
        "C必要人数差 = 10\n",
        "C希望不可 = 100\n",
        "C最低コマ数 = 1\n",
        "C管理者不足 = 100\n",
        "C1日2コマ = 10\n",
        "m = LpProblem() # 数理モデル\n",
        "V割当 = np.array(addbinvars(Nコマ, N従業員))\n",
        "a['V必要人数差'] = addvars(Nコマ)\n",
        "V最低コマ数 = addvars(N従業員)\n",
        "a['V管理者不足'] = addvars(Nコマ)\n",
        "V1日2コマ = addvars(N従業員)\n",
        "m += (C必要人数差 * lpSum(a.V必要人数差)\n",
        "    + C希望不可 * lpSum(a.apply(lambda r: lpDot(1-r[L従業員],V割当[r.name]), 1))\n",
        "    + C最低コマ数 * lpSum(V最低コマ数)\n",
        "    + C管理者不足 * lpSum(a.V管理者不足)\n",
        "    + C1日2コマ * lpSum(V1日2コマ)) # 目的関数\n",
        "for _,r in a.iterrows():\n",
        "    m += r.V必要人数差 >=  (lpSum(V割当[r.name]) - r.必要人数)\n",
        "    m += r.V必要人数差 >= -(lpSum(V割当[r.name]) - r.必要人数)\n",
        "    m += lpSum(V割当[r.name,L管理者]) + r.V管理者不足 >= 1\n",
        "for j,n in enumerate((a.iloc[:,L従業員].sum(0)+1)//2):\n",
        "    m += lpSum(V割当[:,j]) + V最低コマ数[j] >= n # 希望の半分以上\n",
        "for _,v in a.groupby('曜日'):\n",
        "    for j in range(N従業員):\n",
        "        m += lpSum(V割当[v.index,j]) + V1日2コマ[j] <= 2 # 各曜日で2コマまで\n",
        "%time m.solve()\n",
        "R結果 = np.vectorize(value)(V割当).astype(int)\n",
        "a['結果'] = [''.join(i*j for i,j in zip(r,a.columns)) for r in R結果]\n",
        "print('目的関数', value(m.objective))\n",
        "print(a[['曜日','時間帯','結果']])"
      ],
      "execution_count": 10,
      "outputs": [
        {
          "output_type": "stream",
          "text": [
            "CPU times: user 11.2 ms, sys: 3.04 ms, total: 14.2 ms\n",
            "Wall time: 31.1 ms\n",
            "目的関数 0.0\n",
            "   曜日 時間帯                結果\n",
            "0   月   朝          従業員1従業員5\n",
            "1   月   昼      従業員3従業員5従業員7\n",
            "2   月   夜      従業員1従業員3従業員4\n",
            "3   火   朝          従業員0従業員3\n",
            "4   火   昼      従業員3従業員5従業員7\n",
            "5   火   夜      従業員4従業員5従業員8\n",
            "6   水   朝          従業員0従業員5\n",
            "7   水   昼      従業員1従業員3従業員5\n",
            "8   水   夜      従業員3従業員4従業員8\n",
            "9   木   朝              従業員3\n",
            "10  木   昼          従業員5従業員7\n",
            "11  木   夜          従業員8従業員9\n",
            "12  金   朝          従業員1従業員5\n",
            "13  金   昼      従業員1従業員7従業員9\n",
            "14  金   夜      従業員5従業員6従業員8\n",
            "15  土   朝          従業員0従業員3\n",
            "16  土   昼  従業員2従業員6従業員7従業員9\n",
            "17  土   夜  従業員3従業員4従業員6従業員9\n",
            "18  日   朝          従業員0従業員9\n",
            "19  日   昼  従業員2従業員3従業員6従業員9\n",
            "20  日   夜  従業員2従業員3従業員4従業員6\n"
          ],
          "name": "stdout"
        }
      ]
    },
    {
      "metadata": {
        "id": "sZ4iNVUHnsuj",
        "colab_type": "code",
        "colab": {}
      },
      "cell_type": "code",
      "source": [
        ""
      ],
      "execution_count": 0,
      "outputs": []
    }
  ]
}